{
 "cells": [
  {
   "cell_type": "markdown",
   "id": "b5487177",
   "metadata": {},
   "source": [
    " Q1. Which function is used to open a file? What are the different modes of opening a file? Explain each mode\n",
    "     of file opening.\n",
    " \n",
    " the open() function is used to open a file.\n",
    "\n",
    "There are different modes of opening a file in Python:\n",
    "\n",
    "\"r\": Read mode - opens a file for reading\n",
    "\n",
    "\"w\": Write mode - opens a file for writing. If the file does not exist, it creates a new file. If the file exists, it overwrites the existing data.\n",
    "\n",
    "\"a\": Append mode - opens a file for appending new data to the end of the file.\n",
    "\n",
    "\"x\": Exclusive creation mode - opens a file for writing, but only if the file does not already exist. Otherwise, it raises a \"FileExistsError\" exception.\n",
    "\n",
    "\"b\": Binary mode - opens a file in binary mode, which is used for non-text files like images, videos, etc.\n",
    "\n",
    "\"t\": Text mode - opens a file in text mode, which is used for text files like .txt, .csv, etc. (default)"
   ]
  },
  {
   "cell_type": "markdown",
   "id": "d4301f91",
   "metadata": {},
   "source": [
    "Q2. Why close() function is used? Why is it important to close a file?\n",
    "    \n",
    "    close() function is  used to close the file\n",
    "    \n",
    "    when we open the file we should close the file\n",
    "    \n",
    "    for example if we open the file in a write mode, after writing something if we don't close the file \n",
    "    the content what we have written in file it wouldn't be updated to the file"
   ]
  },
  {
   "cell_type": "code",
   "execution_count": 2,
   "id": "5c9f5355",
   "metadata": {},
   "outputs": [
    {
     "data": {
      "text/plain": [
       "17"
      ]
     },
     "execution_count": 2,
     "metadata": {},
     "output_type": "execute_result"
    }
   ],
   "source": [
    "file = open(\"tesxt.txt\" , 'w')\n",
    "file.write(\"written something\")\n",
    "# if we don't colse the file. the content what we written it won't be update "
   ]
  },
  {
   "cell_type": "markdown",
   "id": "f532eec3",
   "metadata": {},
   "source": [
    "Q3. Write a python program to create a text file. Write ‘I want to become a Data Scientist’ in that file. Then\n",
    "close the file. Open this file and read the content of the file."
   ]
  },
  {
   "cell_type": "code",
   "execution_count": 3,
   "id": "bcef3a67",
   "metadata": {},
   "outputs": [],
   "source": [
    "file = open('test.txt','w')\n",
    "file.write('I want to become a Data Scientist')\n",
    "file.close()"
   ]
  },
  {
   "cell_type": "code",
   "execution_count": 4,
   "id": "25b5f310",
   "metadata": {},
   "outputs": [
    {
     "name": "stdout",
     "output_type": "stream",
     "text": [
      "I want to become a Data Scientist\n"
     ]
    }
   ],
   "source": [
    "file2 = open('test.txt','r')\n",
    "print(file2.read())"
   ]
  },
  {
   "cell_type": "markdown",
   "id": "41e53c71",
   "metadata": {},
   "source": [
    "Q4. Explain the following with python code: read(), readline() and readlines()."
   ]
  },
  {
   "cell_type": "markdown",
   "id": "28dabb7a",
   "metadata": {},
   "source": [
    "The read() method reads the entire contents of a file and returns it as a single string. This method can be used to read small files or to read the entire contents of a larger file into memory."
   ]
  },
  {
   "cell_type": "code",
   "execution_count": 5,
   "id": "a9ff3474",
   "metadata": {},
   "outputs": [
    {
     "name": "stdout",
     "output_type": "stream",
     "text": [
      "I want to become a Data Scientist\n"
     ]
    }
   ],
   "source": [
    "file2 = open('test.txt','r')\n",
    "print(file2.read())"
   ]
  },
  {
   "cell_type": "markdown",
   "id": "2c4a0531",
   "metadata": {},
   "source": [
    "The readline() method reads a single line from a file and returns it as a string. This method can be used to read one line at a time from a file"
   ]
  },
  {
   "cell_type": "code",
   "execution_count": 9,
   "id": "3a5803ab",
   "metadata": {},
   "outputs": [
    {
     "name": "stdout",
     "output_type": "stream",
     "text": [
      "this is narendra\n",
      "\n"
     ]
    }
   ],
   "source": [
    "file3 = open('text.txt','r')\n",
    "print(file3.readline())"
   ]
  },
  {
   "cell_type": "markdown",
   "id": "a34359e9",
   "metadata": {},
   "source": [
    "The readlines() method reads all the lines from a file and returns them as a list of strings. This method can be used to read multiple lines from a file."
   ]
  },
  {
   "cell_type": "code",
   "execution_count": 10,
   "id": "a5175afb",
   "metadata": {},
   "outputs": [
    {
     "name": "stdout",
     "output_type": "stream",
     "text": [
      "['this is narendra\\n', 'studing in 3rd year\\n', 'computer science department']\n"
     ]
    }
   ],
   "source": [
    "file4 = open('text.txt','r')\n",
    "print(file3.readlines())"
   ]
  },
  {
   "cell_type": "markdown",
   "id": "542f6cf6",
   "metadata": {},
   "source": [
    "Q5.Explain why with statement is used with open(). What is the advantage of using with statement and\n",
    "open() together?"
   ]
  },
  {
   "cell_type": "markdown",
   "id": "1e5daa13",
   "metadata": {},
   "source": [
    "The with statement in Python is used to create a context in which a resourc is used. The advantage of using the with statement with the open() function is that it automatically handles the opening and closing of the file, which ensures that the file is properly closed even if an error occurs in the code block.\n",
    "\n",
    "When using open() without the with statement, you need to manually close the file using the close() method. Failure to close the file can result in data loss, memory leaks, or other errors. For example:"
   ]
  },
  {
   "cell_type": "markdown",
   "id": "24c79f88",
   "metadata": {},
   "source": [
    "Q6. Explain the write() and writelines() functions. Give a suitable example."
   ]
  },
  {
   "cell_type": "markdown",
   "id": "db8ff439",
   "metadata": {},
   "source": [
    "The write() function is used to write a string to a file. It takes a single string as an argument and writes it to the file at the current position"
   ]
  },
  {
   "cell_type": "code",
   "execution_count": 11,
   "id": "9ee0ca3e",
   "metadata": {},
   "outputs": [],
   "source": [
    "file = open('test.txt','w')\n",
    "file.write('this is write example')\n",
    "file.close()"
   ]
  },
  {
   "cell_type": "markdown",
   "id": "2a5eaa75",
   "metadata": {},
   "source": [
    "The writelines() function is used to write a sequence of strings to a file. It takes a list of strings as an argument and writes each string to the file at the current position."
   ]
  },
  {
   "cell_type": "code",
   "execution_count": 12,
   "id": "ada57a33",
   "metadata": {},
   "outputs": [],
   "source": [
    "file = open(\"test.txt\",'w')\n",
    "string = ['this is first line\\n' , 'this is second line\\n', 'this is thrid line\\n']\n",
    "file.writelines(string)\n",
    "file.close()"
   ]
  },
  {
   "cell_type": "code",
   "execution_count": null,
   "id": "11e71b7d",
   "metadata": {},
   "outputs": [],
   "source": []
  }
 ],
 "metadata": {
  "kernelspec": {
   "display_name": "Python 3",
   "language": "python",
   "name": "python3"
  },
  "language_info": {
   "codemirror_mode": {
    "name": "ipython",
    "version": 3
   },
   "file_extension": ".py",
   "mimetype": "text/x-python",
   "name": "python",
   "nbconvert_exporter": "python",
   "pygments_lexer": "ipython3",
   "version": "3.8.8"
  }
 },
 "nbformat": 4,
 "nbformat_minor": 5
}
